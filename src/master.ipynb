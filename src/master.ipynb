{
 "cells": [
  {
   "cell_type": "code",
   "execution_count": 1,
   "metadata": {},
   "outputs": [
    {
     "name": "stderr",
     "output_type": "stream",
     "text": [
      "2023-07-14 18:46:41.373866: I tensorflow/core/platform/cpu_feature_guard.cc:193] This TensorFlow binary is optimized with oneAPI Deep Neural Network Library (oneDNN) to use the following CPU instructions in performance-critical operations:  SSE4.1 SSE4.2 AVX AVX2 FMA\n",
      "To enable them in other operations, rebuild TensorFlow with the appropriate compiler flags.\n",
      "/Applications/anaconda3/envs/myenv/lib/python3.9/site-packages/tqdm/auto.py:21: TqdmWarning: IProgress not found. Please update jupyter and ipywidgets. See https://ipywidgets.readthedocs.io/en/stable/user_install.html\n",
      "  from .autonotebook import tqdm as notebook_tqdm\n"
     ]
    }
   ],
   "source": [
    "from preprocess_data.make_dataset import *\n",
    "from features.build_features import *\n",
    "from models.model1 import *\n",
    "from models.model2 import *"
   ]
  },
  {
   "attachments": {},
   "cell_type": "markdown",
   "metadata": {},
   "source": [
    "# 1. Processing raw data"
   ]
  },
  {
   "cell_type": "code",
   "execution_count": 2,
   "metadata": {},
   "outputs": [],
   "source": [
    "# Training data\n",
    "dataset_creator = DatasetCreator(project.train_raw_path, project.train_processed_path)\n",
    "dataset_creator.make_dataset()\n",
    "\n",
    "# Testing data\n",
    "dataset_creator = DatasetCreator(project.test_raw_path, project.test_processed_path)\n",
    "dataset_creator.make_dataset()"
   ]
  },
  {
   "attachments": {},
   "cell_type": "markdown",
   "metadata": {},
   "source": [
    "# 2. Model 1"
   ]
  },
  {
   "attachments": {},
   "cell_type": "markdown",
   "metadata": {},
   "source": [
    "## 2.1 Text processing\n",
    "(for training our own embeddings)"
   ]
  },
  {
   "cell_type": "code",
   "execution_count": 3,
   "metadata": {},
   "outputs": [],
   "source": [
    "# process and tokenise text data to build features\n",
    "train_text_dict = preprocess_text(project.train_processed_path, \n",
    "                                  remove_apostrophes=False)\n",
    "test_text_dict = preprocess_text(project.test_processed_path, \n",
    "                                 remove_apostrophes=False)"
   ]
  },
  {
   "cell_type": "code",
   "execution_count": 4,
   "metadata": {},
   "outputs": [
    {
     "name": "stdout",
     "output_type": "stream",
     "text": [
      "Vocabulary size:  17021\n",
      "Max tweet size:  43\n"
     ]
    }
   ],
   "source": [
    "# find dimensions for embedding\n",
    "vocab, vocab_size, max_tweet_size = find_vocab([train_text_dict, test_text_dict])\n",
    "print('Vocabulary size: ', vocab_size)\n",
    "print('Max tweet size: ', max_tweet_size)"
   ]
  },
  {
   "cell_type": "code",
   "execution_count": 5,
   "metadata": {},
   "outputs": [],
   "source": [
    "# index dictionaries\n",
    "indexed_dict_list, indexed_vocab = index_tweets([train_text_dict, test_text_dict])\n",
    "train_indexed_dict = indexed_dict_list[0]\n",
    "test_indexed_dict = indexed_dict_list[1]"
   ]
  },
  {
   "attachments": {},
   "cell_type": "markdown",
   "metadata": {},
   "source": [
    "## 2.2 Model fitting and prediction"
   ]
  },
  {
   "cell_type": "code",
   "execution_count": 6,
   "metadata": {},
   "outputs": [
    {
     "name": "stderr",
     "output_type": "stream",
     "text": [
      "2023-07-14 18:32:48.326530: I tensorflow/core/platform/cpu_feature_guard.cc:193] This TensorFlow binary is optimized with oneAPI Deep Neural Network Library (oneDNN) to use the following CPU instructions in performance-critical operations:  SSE4.1 SSE4.2 AVX AVX2 FMA\n",
      "To enable them in other operations, rebuild TensorFlow with the appropriate compiler flags.\n"
     ]
    },
    {
     "name": "stdout",
     "output_type": "stream",
     "text": [
      "Model: \"sequential\"\n",
      "_________________________________________________________________\n",
      " Layer (type)                Output Shape              Param #   \n",
      "=================================================================\n",
      " embedding (Embedding)       (None, 43, 100)           1702300   \n",
      "                                                                 \n",
      " flatten (Flatten)           (None, 4300)              0         \n",
      "                                                                 \n",
      " dense (Dense)               (None, 4)                 17204     \n",
      "                                                                 \n",
      "=================================================================\n",
      "Total params: 1,719,504\n",
      "Trainable params: 1,719,504\n",
      "Non-trainable params: 0\n",
      "_________________________________________________________________\n",
      "None\n",
      "Epoch 1/50\n",
      "389/389 [==============================] - 9s 21ms/step - loss: 1.2388 - categorical_accuracy: 0.4534\n",
      "Epoch 2/50\n",
      "389/389 [==============================] - 8s 20ms/step - loss: 0.8225 - categorical_accuracy: 0.6950\n",
      "Epoch 3/50\n",
      "389/389 [==============================] - 8s 21ms/step - loss: 0.4717 - categorical_accuracy: 0.8559\n",
      "Epoch 4/50\n",
      "389/389 [==============================] - 9s 23ms/step - loss: 0.2769 - categorical_accuracy: 0.9217\n",
      "Epoch 5/50\n",
      "389/389 [==============================] - 8s 21ms/step - loss: 0.1840 - categorical_accuracy: 0.9477\n",
      "Epoch 6/50\n",
      "389/389 [==============================] - 8s 21ms/step - loss: 0.1361 - categorical_accuracy: 0.9595\n",
      "Epoch 7/50\n",
      "389/389 [==============================] - 8s 21ms/step - loss: 0.1076 - categorical_accuracy: 0.9664\n",
      "Epoch 8/50\n",
      "389/389 [==============================] - 8s 21ms/step - loss: 0.0894 - categorical_accuracy: 0.9716\n",
      "Epoch 9/50\n",
      "389/389 [==============================] - 8s 21ms/step - loss: 0.0769 - categorical_accuracy: 0.9742\n",
      "Epoch 10/50\n",
      "389/389 [==============================] - 8s 21ms/step - loss: 0.0688 - categorical_accuracy: 0.9764\n",
      "Epoch 11/50\n",
      "389/389 [==============================] - 8s 21ms/step - loss: 0.0625 - categorical_accuracy: 0.9776\n",
      "Epoch 12/50\n",
      "389/389 [==============================] - 8s 22ms/step - loss: 0.0585 - categorical_accuracy: 0.9782\n",
      "Epoch 13/50\n",
      "389/389 [==============================] - 8s 20ms/step - loss: 0.0548 - categorical_accuracy: 0.9795\n",
      "Epoch 14/50\n",
      "389/389 [==============================] - 8s 20ms/step - loss: 0.0533 - categorical_accuracy: 0.9795\n",
      "Epoch 15/50\n",
      "389/389 [==============================] - 8s 21ms/step - loss: 0.0501 - categorical_accuracy: 0.9792\n",
      "Epoch 16/50\n",
      "389/389 [==============================] - 8s 21ms/step - loss: 0.0489 - categorical_accuracy: 0.9789\n",
      "Epoch 17/50\n",
      "389/389 [==============================] - 8s 21ms/step - loss: 0.0488 - categorical_accuracy: 0.9790\n",
      "Epoch 18/50\n",
      "389/389 [==============================] - 8s 21ms/step - loss: 0.0473 - categorical_accuracy: 0.9804\n",
      "Epoch 19/50\n",
      "389/389 [==============================] - 14s 37ms/step - loss: 0.0463 - categorical_accuracy: 0.9794\n",
      "Epoch 20/50\n",
      "389/389 [==============================] - 10s 26ms/step - loss: 0.0454 - categorical_accuracy: 0.9804\n",
      "Epoch 21/50\n",
      "389/389 [==============================] - 8s 20ms/step - loss: 0.0447 - categorical_accuracy: 0.9799\n",
      "Epoch 22/50\n",
      "389/389 [==============================] - 8s 19ms/step - loss: 0.0447 - categorical_accuracy: 0.9797\n",
      "Epoch 23/50\n",
      "389/389 [==============================] - 9s 23ms/step - loss: 0.0436 - categorical_accuracy: 0.9802\n",
      "Epoch 24/50\n",
      "389/389 [==============================] - 12s 30ms/step - loss: 0.0437 - categorical_accuracy: 0.9807\n",
      "Epoch 25/50\n",
      "389/389 [==============================] - 13s 32ms/step - loss: 0.0441 - categorical_accuracy: 0.9799\n",
      "Epoch 26/50\n",
      "389/389 [==============================] - 17s 45ms/step - loss: 0.0427 - categorical_accuracy: 0.9812\n",
      "Epoch 27/50\n",
      "389/389 [==============================] - 9s 24ms/step - loss: 0.0433 - categorical_accuracy: 0.9803\n",
      "Epoch 28/50\n",
      "389/389 [==============================] - 11s 28ms/step - loss: 0.0420 - categorical_accuracy: 0.9809\n",
      "Epoch 29/50\n",
      "389/389 [==============================] - 11s 29ms/step - loss: 0.0427 - categorical_accuracy: 0.9800\n",
      "Epoch 30/50\n",
      "389/389 [==============================] - 9s 23ms/step - loss: 0.0420 - categorical_accuracy: 0.9810\n",
      "Epoch 31/50\n",
      "389/389 [==============================] - 10s 25ms/step - loss: 0.0425 - categorical_accuracy: 0.9808\n",
      "Epoch 32/50\n",
      "389/389 [==============================] - 14s 37ms/step - loss: 0.0414 - categorical_accuracy: 0.9799\n",
      "Epoch 33/50\n",
      "389/389 [==============================] - 18s 47ms/step - loss: 0.0420 - categorical_accuracy: 0.9810\n",
      "Epoch 34/50\n",
      "389/389 [==============================] - 23s 60ms/step - loss: 0.0412 - categorical_accuracy: 0.9814\n",
      "Epoch 35/50\n",
      "389/389 [==============================] - 15s 38ms/step - loss: 0.0425 - categorical_accuracy: 0.9800\n",
      "Epoch 36/50\n",
      "389/389 [==============================] - 16s 42ms/step - loss: 0.0420 - categorical_accuracy: 0.9802\n",
      "Epoch 37/50\n",
      "389/389 [==============================] - 10s 25ms/step - loss: 0.0415 - categorical_accuracy: 0.9807\n",
      "Epoch 38/50\n",
      "389/389 [==============================] - 9s 24ms/step - loss: 0.0417 - categorical_accuracy: 0.9808\n",
      "Epoch 39/50\n",
      "389/389 [==============================] - 11s 29ms/step - loss: 0.0417 - categorical_accuracy: 0.9802\n",
      "Epoch 40/50\n",
      "389/389 [==============================] - 10s 26ms/step - loss: 0.0403 - categorical_accuracy: 0.9809\n",
      "Epoch 41/50\n",
      "389/389 [==============================] - 16s 42ms/step - loss: 0.0412 - categorical_accuracy: 0.9803\n",
      "Epoch 42/50\n",
      "389/389 [==============================] - 22s 58ms/step - loss: 0.0408 - categorical_accuracy: 0.9815\n",
      "Epoch 43/50\n",
      "389/389 [==============================] - 13s 34ms/step - loss: 0.0413 - categorical_accuracy: 0.9802\n",
      "Epoch 44/50\n",
      "389/389 [==============================] - 12s 31ms/step - loss: 0.0415 - categorical_accuracy: 0.9810\n",
      "Epoch 45/50\n",
      "389/389 [==============================] - 14s 37ms/step - loss: 0.0402 - categorical_accuracy: 0.9810\n",
      "Epoch 46/50\n",
      "389/389 [==============================] - 13s 33ms/step - loss: 0.0411 - categorical_accuracy: 0.9806\n",
      "Epoch 47/50\n",
      "389/389 [==============================] - 12s 31ms/step - loss: 0.0407 - categorical_accuracy: 0.9810\n",
      "Epoch 48/50\n",
      "389/389 [==============================] - 13s 34ms/step - loss: 0.0412 - categorical_accuracy: 0.9798\n",
      "Epoch 49/50\n",
      "389/389 [==============================] - 13s 34ms/step - loss: 0.0411 - categorical_accuracy: 0.9813\n",
      "Epoch 50/50\n",
      "389/389 [==============================] - 20s 52ms/step - loss: 0.0408 - categorical_accuracy: 0.9812\n",
      "32/32 [==============================] - 1s 6ms/step - loss: 0.1654 - categorical_accuracy: 0.9710\n"
     ]
    }
   ],
   "source": [
    "model1 = Model1_Creator(vocab_size, max_tweet_size, train_indexed_dict, test_indexed_dict)\n",
    "model1.build_model()\n",
    "model1.fit_model()\n",
    "loss, accuracy = model1.model_predict()"
   ]
  },
  {
   "attachments": {},
   "cell_type": "markdown",
   "metadata": {},
   "source": [
    "## 2.3 Results Exploration"
   ]
  },
  {
   "attachments": {},
   "cell_type": "markdown",
   "metadata": {},
   "source": [
    "# 3. Model 2"
   ]
  },
  {
   "attachments": {},
   "cell_type": "markdown",
   "metadata": {},
   "source": [
    "## 3.1 Text Processing\n",
    "(using GloVe embeddings)"
   ]
  },
  {
   "cell_type": "code",
   "execution_count": 6,
   "metadata": {},
   "outputs": [],
   "source": [
    "# preprocess train_df and test_df\n",
    "train_text_dict_2 = preprocess_text(project.train_processed_path, \n",
    "                                    remove_apostrophes=True)\n",
    "test_text_dict_2 = preprocess_text(project.test_processed_path, \n",
    "                                   remove_apostrophes=True)"
   ]
  },
  {
   "cell_type": "code",
   "execution_count": 7,
   "metadata": {},
   "outputs": [],
   "source": [
    "# find dimensions for embedding\n",
    "vocab_2, vocab_size_2, max_tweet_size_2 = find_vocab([train_text_dict_2, test_text_dict_2])"
   ]
  },
  {
   "cell_type": "code",
   "execution_count": 8,
   "metadata": {},
   "outputs": [],
   "source": [
    "# index dictionaries\n",
    "indexed_dict_list_2, indexed_vocab_2 = index_tweets([train_text_dict_2, test_text_dict_2])\n",
    "train_indexed_dict_2 = indexed_dict_list_2[0]\n",
    "test_indexed_dict_2 = indexed_dict_list_2[1]"
   ]
  },
  {
   "attachments": {},
   "cell_type": "markdown",
   "metadata": {},
   "source": [
    "## 3.2 Model fitting and prediction"
   ]
  },
  {
   "cell_type": "code",
   "execution_count": 9,
   "metadata": {},
   "outputs": [
    {
     "name": "stderr",
     "output_type": "stream",
     "text": [
      "2023-07-14 18:47:35.595170: I tensorflow/core/platform/cpu_feature_guard.cc:193] This TensorFlow binary is optimized with oneAPI Deep Neural Network Library (oneDNN) to use the following CPU instructions in performance-critical operations:  SSE4.1 SSE4.2 AVX AVX2 FMA\n",
      "To enable them in other operations, rebuild TensorFlow with the appropriate compiler flags.\n"
     ]
    },
    {
     "name": "stdout",
     "output_type": "stream",
     "text": [
      "Model: \"sequential\"\n",
      "_________________________________________________________________\n",
      " Layer (type)                Output Shape              Param #   \n",
      "=================================================================\n",
      " embedding (Embedding)       (None, 43, 100)           1669100   \n",
      "                                                                 \n",
      " flatten (Flatten)           (None, 4300)              0         \n",
      "                                                                 \n",
      " dense (Dense)               (None, 4)                 17204     \n",
      "                                                                 \n",
      "=================================================================\n",
      "Total params: 1,686,304\n",
      "Trainable params: 17,204\n",
      "Non-trainable params: 1,669,100\n",
      "_________________________________________________________________\n",
      "None\n",
      "Epoch 1/50\n",
      "389/389 [==============================] - 2s 4ms/step - loss: 1.2639 - categorical_accuracy: 0.4418\n",
      "Epoch 2/50\n",
      "389/389 [==============================] - 1s 4ms/step - loss: 1.1052 - categorical_accuracy: 0.5368\n",
      "Epoch 3/50\n",
      "389/389 [==============================] - 2s 5ms/step - loss: 1.0455 - categorical_accuracy: 0.5707\n",
      "Epoch 4/50\n",
      "389/389 [==============================] - 2s 4ms/step - loss: 1.0093 - categorical_accuracy: 0.5875\n",
      "Epoch 5/50\n",
      "389/389 [==============================] - 1s 4ms/step - loss: 0.9844 - categorical_accuracy: 0.5976\n",
      "Epoch 6/50\n",
      "389/389 [==============================] - 1s 3ms/step - loss: 0.9602 - categorical_accuracy: 0.6079\n",
      "Epoch 7/50\n",
      "389/389 [==============================] - 1s 3ms/step - loss: 0.9458 - categorical_accuracy: 0.6151\n",
      "Epoch 8/50\n",
      "389/389 [==============================] - 1s 3ms/step - loss: 0.9333 - categorical_accuracy: 0.6226\n",
      "Epoch 9/50\n",
      "389/389 [==============================] - 2s 4ms/step - loss: 0.9203 - categorical_accuracy: 0.6289\n",
      "Epoch 10/50\n",
      "389/389 [==============================] - 1s 4ms/step - loss: 0.9108 - categorical_accuracy: 0.6332\n",
      "Epoch 11/50\n",
      "389/389 [==============================] - 1s 4ms/step - loss: 0.9022 - categorical_accuracy: 0.6340\n",
      "Epoch 12/50\n",
      "389/389 [==============================] - 1s 3ms/step - loss: 0.8953 - categorical_accuracy: 0.6389\n",
      "Epoch 13/50\n",
      "389/389 [==============================] - 1s 3ms/step - loss: 0.8874 - categorical_accuracy: 0.6418\n",
      "Epoch 14/50\n",
      "389/389 [==============================] - 1s 4ms/step - loss: 0.8804 - categorical_accuracy: 0.6447\n",
      "Epoch 15/50\n",
      "389/389 [==============================] - 1s 3ms/step - loss: 0.8769 - categorical_accuracy: 0.6464\n",
      "Epoch 16/50\n",
      "389/389 [==============================] - 1s 4ms/step - loss: 0.8715 - categorical_accuracy: 0.6487\n",
      "Epoch 17/50\n",
      "389/389 [==============================] - 2s 4ms/step - loss: 0.8667 - categorical_accuracy: 0.6521\n",
      "Epoch 18/50\n",
      "389/389 [==============================] - 1s 3ms/step - loss: 0.8611 - categorical_accuracy: 0.6522\n",
      "Epoch 19/50\n",
      "389/389 [==============================] - 1s 3ms/step - loss: 0.8565 - categorical_accuracy: 0.6579\n",
      "Epoch 20/50\n",
      "389/389 [==============================] - 1s 3ms/step - loss: 0.8522 - categorical_accuracy: 0.6582\n",
      "Epoch 21/50\n",
      "389/389 [==============================] - 1s 4ms/step - loss: 0.8480 - categorical_accuracy: 0.6589\n",
      "Epoch 22/50\n",
      "389/389 [==============================] - 1s 3ms/step - loss: 0.8463 - categorical_accuracy: 0.6609\n",
      "Epoch 23/50\n",
      "389/389 [==============================] - 2s 4ms/step - loss: 0.8422 - categorical_accuracy: 0.6606\n",
      "Epoch 24/50\n",
      "389/389 [==============================] - 1s 3ms/step - loss: 0.8399 - categorical_accuracy: 0.6647\n",
      "Epoch 25/50\n",
      "389/389 [==============================] - 1s 3ms/step - loss: 0.8365 - categorical_accuracy: 0.6637\n",
      "Epoch 26/50\n",
      "389/389 [==============================] - 1s 3ms/step - loss: 0.8339 - categorical_accuracy: 0.6680\n",
      "Epoch 27/50\n",
      "389/389 [==============================] - 1s 3ms/step - loss: 0.8308 - categorical_accuracy: 0.6647\n",
      "Epoch 28/50\n",
      "389/389 [==============================] - 1s 4ms/step - loss: 0.8292 - categorical_accuracy: 0.6652\n",
      "Epoch 29/50\n",
      "389/389 [==============================] - 1s 4ms/step - loss: 0.8273 - categorical_accuracy: 0.6667\n",
      "Epoch 30/50\n",
      "389/389 [==============================] - 2s 5ms/step - loss: 0.8237 - categorical_accuracy: 0.6707\n",
      "Epoch 31/50\n",
      "389/389 [==============================] - 1s 3ms/step - loss: 0.8198 - categorical_accuracy: 0.6703\n",
      "Epoch 32/50\n",
      "389/389 [==============================] - 1s 3ms/step - loss: 0.8201 - categorical_accuracy: 0.6737\n",
      "Epoch 33/50\n",
      "389/389 [==============================] - 1s 3ms/step - loss: 0.8182 - categorical_accuracy: 0.6726\n",
      "Epoch 34/50\n",
      "389/389 [==============================] - 1s 4ms/step - loss: 0.8148 - categorical_accuracy: 0.6751\n",
      "Epoch 35/50\n",
      "389/389 [==============================] - 1s 3ms/step - loss: 0.8144 - categorical_accuracy: 0.6742\n",
      "Epoch 36/50\n",
      "389/389 [==============================] - 1s 3ms/step - loss: 0.8116 - categorical_accuracy: 0.6753\n",
      "Epoch 37/50\n",
      "389/389 [==============================] - 1s 3ms/step - loss: 0.8104 - categorical_accuracy: 0.6758\n",
      "Epoch 38/50\n",
      "389/389 [==============================] - 1s 3ms/step - loss: 0.8089 - categorical_accuracy: 0.6751\n",
      "Epoch 39/50\n",
      "389/389 [==============================] - 1s 3ms/step - loss: 0.8058 - categorical_accuracy: 0.6795\n",
      "Epoch 40/50\n",
      "389/389 [==============================] - 1s 3ms/step - loss: 0.8068 - categorical_accuracy: 0.6781\n",
      "Epoch 41/50\n",
      "389/389 [==============================] - 1s 4ms/step - loss: 0.8041 - categorical_accuracy: 0.6786\n",
      "Epoch 42/50\n",
      "389/389 [==============================] - 1s 3ms/step - loss: 0.8049 - categorical_accuracy: 0.6786\n",
      "Epoch 43/50\n",
      "389/389 [==============================] - 2s 5ms/step - loss: 0.8010 - categorical_accuracy: 0.6810\n",
      "Epoch 44/50\n",
      "389/389 [==============================] - 2s 6ms/step - loss: 0.8004 - categorical_accuracy: 0.6777\n",
      "Epoch 45/50\n",
      "389/389 [==============================] - 3s 6ms/step - loss: 0.8004 - categorical_accuracy: 0.6800\n",
      "Epoch 46/50\n",
      "389/389 [==============================] - 2s 4ms/step - loss: 0.7972 - categorical_accuracy: 0.6814\n",
      "Epoch 47/50\n",
      "389/389 [==============================] - 2s 5ms/step - loss: 0.7965 - categorical_accuracy: 0.6839\n",
      "Epoch 48/50\n",
      "389/389 [==============================] - 1s 4ms/step - loss: 0.7947 - categorical_accuracy: 0.6806\n",
      "Epoch 49/50\n",
      "389/389 [==============================] - 2s 6ms/step - loss: 0.7939 - categorical_accuracy: 0.6806\n",
      "Epoch 50/50\n",
      "389/389 [==============================] - 2s 4ms/step - loss: 0.7940 - categorical_accuracy: 0.6835\n",
      "32/32 [==============================] - 0s 3ms/step - loss: 1.0378 - categorical_accuracy: 0.6670\n"
     ]
    }
   ],
   "source": [
    "model2 = Model2_Creator(vocab_size_2, indexed_vocab_2, max_tweet_size_2,\n",
    "                        train_indexed_dict_2, test_indexed_dict_2)\n",
    "model2.load_glove()\n",
    "model2.prepare_embeddings()\n",
    "model2.build_model(is_trainable=False) # do not further train our embedding layer\n",
    "model2.fit_model()\n",
    "loss_2, accuracy_2 = model2.model_predict()\n"
   ]
  }
 ],
 "metadata": {
  "kernelspec": {
   "display_name": "myenv",
   "language": "python",
   "name": "python3"
  },
  "language_info": {
   "codemirror_mode": {
    "name": "ipython",
    "version": 3
   },
   "file_extension": ".py",
   "mimetype": "text/x-python",
   "name": "python",
   "nbconvert_exporter": "python",
   "pygments_lexer": "ipython3",
   "version": "3.9.13"
  },
  "orig_nbformat": 4
 },
 "nbformat": 4,
 "nbformat_minor": 2
}
